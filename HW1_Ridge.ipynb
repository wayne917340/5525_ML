{
  "nbformat": 4,
  "nbformat_minor": 0,
  "metadata": {
    "kernelspec": {
      "display_name": "Python 3",
      "language": "python",
      "name": "python3"
    },
    "language_info": {
      "codemirror_mode": {
        "name": "ipython",
        "version": 3
      },
      "file_extension": ".py",
      "mimetype": "text/x-python",
      "name": "python",
      "nbconvert_exporter": "python",
      "pygments_lexer": "ipython3",
      "version": "3.6.9"
    },
    "colab": {
      "name": "HW1-Ridge.ipynb",
      "provenance": [],
      "include_colab_link": true
    }
  },
  "cells": [
    {
      "cell_type": "markdown",
      "metadata": {
        "id": "view-in-github",
        "colab_type": "text"
      },
      "source": [
        "<a href=\"https://colab.research.google.com/github/wayne917340/5525_ML/blob/master/HW1_Ridge.ipynb\" target=\"_parent\"><img src=\"https://colab.research.google.com/assets/colab-badge.svg\" alt=\"Open In Colab\"/></a>"
      ]
    },
    {
      "cell_type": "code",
      "metadata": {
        "id": "MLLTdB2erTaa",
        "colab_type": "code",
        "colab": {},
        "outputId": "ece30963-2eaa-4475-fd11-f3e16a611e7b"
      },
      "source": [
        "\"\"\"\n",
        "This is just a rough skeleton to assist you in understanding the process flow. \n",
        "Modify it to meet the requirements of the questions. \n",
        "\n",
        "Put the description paragraph here\n",
        "DESCRIPTION OF IMPLEMENTATION:\n",
        "\n",
        "\n",
        "\n",
        "\"\"\""
      ],
      "execution_count": 0,
      "outputs": [
        {
          "output_type": "execute_result",
          "data": {
            "text/plain": [
              "'\\nThis is just a rough skeleton to assist you in understanding the process flow. \\nModify it to meet the requirements of the questions. \\n\\nPut the description paragraph here\\nDESCRIPTION OF IMPLEMENTATION:\\n\\n\\n\\n'"
            ]
          },
          "metadata": {
            "tags": []
          },
          "execution_count": 6
        }
      ]
    },
    {
      "cell_type": "code",
      "metadata": {
        "id": "PS7HNWJMrTaj",
        "colab_type": "code",
        "colab": {}
      },
      "source": [
        "import numpy as np\n",
        "import pandas as pd\n",
        "import matplotlib.pyplot as plt"
      ],
      "execution_count": 0,
      "outputs": []
    },
    {
      "cell_type": "code",
      "metadata": {
        "id": "p7t5kbburTan",
        "colab_type": "code",
        "colab": {}
      },
      "source": [
        "# For reading the data you can use either numpy or pandas and accordingly handle your processing. An example could be\n",
        "# my_data = np.genfromtxt('SPAM-HW1.csv', delimiter=',')\n",
        "    "
      ],
      "execution_count": 0,
      "outputs": []
    },
    {
      "cell_type": "code",
      "metadata": {
        "id": "TXLXVsNvrTas",
        "colab_type": "code",
        "colab": {}
      },
      "source": [
        ""
      ],
      "execution_count": 0,
      "outputs": []
    },
    {
      "cell_type": "code",
      "metadata": {
        "id": "UDgzy155rTau",
        "colab_type": "code",
        "colab": {}
      },
      "source": [
        "def get_next_train_valid(X_shuffled, y_shuffled, itr):\n",
        "    \"\"\"\n",
        "    - itr value can tell you which fold you pick up for valid and rest go to training\n",
        "    - use 1 fold for validation and all other folds for training\n",
        "    - in next iteration, use a different fold for validation and remaining folds for training\n",
        "        \n",
        "    Basically, here you will determine which fold goes for validation and which ones for training\n",
        "    \"\"\"\n",
        "    #return training and validation data"
      ],
      "execution_count": 0,
      "outputs": []
    },
    {
      "cell_type": "code",
      "metadata": {
        "id": "t0F4SXcNrTaz",
        "colab_type": "code",
        "colab": {}
      },
      "source": [
        ""
      ],
      "execution_count": 0,
      "outputs": []
    },
    {
      "cell_type": "code",
      "metadata": {
        "id": "DxdC4EnCrTa3",
        "colab_type": "code",
        "colab": {}
      },
      "source": [
        "def train(X_train, y_train):\n",
        "    \"\"\"\n",
        "    This function should implement fitting or training your model in question. \n",
        "    \"\"\"\n",
        "    # return model"
      ],
      "execution_count": 0,
      "outputs": []
    },
    {
      "cell_type": "code",
      "metadata": {
        "id": "bl-frznbrTa7",
        "colab_type": "code",
        "colab": {}
      },
      "source": [
        ""
      ],
      "execution_count": 0,
      "outputs": []
    },
    {
      "cell_type": "code",
      "metadata": {
        "id": "UgeIZZ_BrTa_",
        "colab_type": "code",
        "colab": {}
      },
      "source": [
        "def predict(X_valid, model):\n",
        "    \"\"\"\n",
        "    Here, using the trained model, implement how to predict when you just have feature vector. \n",
        "    \"\"\"\n",
        "    # return "
      ],
      "execution_count": 0,
      "outputs": []
    },
    {
      "cell_type": "code",
      "metadata": {
        "id": "W6YOAnenrTbD",
        "colab_type": "code",
        "colab": {}
      },
      "source": [
        ""
      ],
      "execution_count": 0,
      "outputs": []
    },
    {
      "cell_type": "code",
      "metadata": {
        "id": "QHJk_cYNrTbG",
        "colab_type": "code",
        "colab": {},
        "outputId": "195c1ef1-70e8-478c-fb66-429658f42db5"
      },
      "source": [
        "\"\"\"\n",
        "Main - Here goes the overall logic.\n",
        "\"\"\"\n",
        "# cross-validation to get train and validation data\n",
        "# We will use cross validation for training and validation. In this assignment, we will not use test split separately.\n",
        "#  Let us say we want k-fold with k=5 - shuffle the data and partition into k-equal partitions\n",
        "#  Save paritions into dictionaries\n",
        "\n",
        "#Loop through 5 times, each time selecting 1 fold as validation and remaining as train data sets using function get_next_train_valid \n",
        "#   train your model\n",
        "#   predict target on validation and training\n",
        "#   compute error i.e. RMSE or classification accuracy as per assignment question\n",
        "#\n",
        "#Plot or print as per question - Mean RMSE or accuracy"
      ],
      "execution_count": 0,
      "outputs": [
        {
          "output_type": "execute_result",
          "data": {
            "text/plain": [
              "'\\nMain - Here goes the overall logic.\\n'"
            ]
          },
          "metadata": {
            "tags": []
          },
          "execution_count": 14
        }
      ]
    }
  ]
}