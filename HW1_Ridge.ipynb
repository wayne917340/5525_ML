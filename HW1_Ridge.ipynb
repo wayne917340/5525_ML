{
  "nbformat": 4,
  "nbformat_minor": 0,
  "metadata": {
    "kernelspec": {
      "display_name": "Python 3",
      "language": "python",
      "name": "python3"
    },
    "language_info": {
      "codemirror_mode": {
        "name": "ipython",
        "version": 3
      },
      "file_extension": ".py",
      "mimetype": "text/x-python",
      "name": "python",
      "nbconvert_exporter": "python",
      "pygments_lexer": "ipython3",
      "version": "3.6.9"
    },
    "colab": {
      "name": "HW1-Ridge.ipynb",
      "provenance": [],
      "include_colab_link": true
    }
  },
  "cells": [
    {
      "cell_type": "markdown",
      "metadata": {
        "id": "view-in-github",
        "colab_type": "text"
      },
      "source": [
        "<a href=\"https://colab.research.google.com/github/wayne917340/5525_ML/blob/master/HW1_Ridge.ipynb\" target=\"_parent\"><img src=\"https://colab.research.google.com/assets/colab-badge.svg\" alt=\"Open In Colab\"/></a>"
      ]
    },
    {
      "cell_type": "code",
      "metadata": {
        "id": "c1aaLja51nXo",
        "colab_type": "code",
        "colab": {},
        "outputId": "1a93c0bf-9f82-4bf5-c403-2bad2512665a"
      },
      "source": [
        "\"\"\"\n",
        "This is just a rough skeleton to assist you in understanding the process flow. \n",
        "Modify it to meet the requirements of the questions. \n",
        "\n",
        "Put the description paragraph here\n",
        "DESCRIPTION OF IMPLEMENTATION:\n",
        "\n",
        "\n",
        "\n",
        "\"\"\""
      ],
      "execution_count": 0,
      "outputs": [
        {
          "output_type": "execute_result",
          "data": {
            "text/plain": [
              "'\\nThis is just a rough skeleton to assist you in understanding the process flow. \\nModify it to meet the requirements of the questions. \\n\\nPut the description paragraph here\\nDESCRIPTION OF IMPLEMENTATION:\\n\\n\\n\\n'"
            ]
          },
          "metadata": {
            "tags": []
          },
          "execution_count": 6
        }
      ]
    },
    {
      "cell_type": "code",
      "metadata": {
        "id": "k_T0SlWi1sl7",
        "colab_type": "code",
        "colab": {
          "base_uri": "https://localhost:8080/",
          "height": 169
        },
        "outputId": "d975bbe0-f455-4921-e2c1-2bd48aa4f078"
      },
      "source": [
        "from google.colab import drive\n",
        "drive.mount('/content/drive')"
      ],
      "execution_count": 1,
      "outputs": [
        {
          "output_type": "stream",
          "text": [
            "Go to this URL in a browser: https://accounts.google.com/o/oauth2/auth?client_id=947318989803-6bn6qk8qdgf4n4g3pfee6491hc0brc4i.apps.googleusercontent.com&redirect_uri=urn%3Aietf%3Awg%3Aoauth%3A2.0%3Aoob&scope=email%20https%3A%2F%2Fwww.googleapis.com%2Fauth%2Fdocs.test%20https%3A%2F%2Fwww.googleapis.com%2Fauth%2Fdrive%20https%3A%2F%2Fwww.googleapis.com%2Fauth%2Fdrive.photos.readonly%20https%3A%2F%2Fwww.googleapis.com%2Fauth%2Fpeopleapi.readonly&response_type=code\n",
            "\n",
            "Enter your authorization code:\n",
            "··········\n",
            "Mounted at /content/drive\n"
          ],
          "name": "stdout"
        }
      ]
    },
    {
      "cell_type": "code",
      "metadata": {
        "id": "jIDH6j2d1nXy",
        "colab_type": "code",
        "colab": {}
      },
      "source": [
        "import numpy as np\n",
        "import pandas as pd\n",
        "import matplotlib.pyplot as plt"
      ],
      "execution_count": 0,
      "outputs": []
    },
    {
      "cell_type": "code",
      "metadata": {
        "id": "w9ZtAyMt1nX3",
        "colab_type": "code",
        "colab": {}
      },
      "source": [
        "# For reading the data you can use either numpy or pandas and accordingly handle your processing. An example could be\n",
        "# my_data = np.genfromtxt('SPAM-HW1.csv', delimiter=',')\n",
        "    "
      ],
      "execution_count": 0,
      "outputs": []
    },
    {
      "cell_type": "code",
      "metadata": {
        "id": "VaCHlCZv1nX8",
        "colab_type": "code",
        "colab": {}
      },
      "source": [
        ""
      ],
      "execution_count": 0,
      "outputs": []
    },
    {
      "cell_type": "code",
      "metadata": {
        "id": "egNs2VXQ1nX-",
        "colab_type": "code",
        "colab": {}
      },
      "source": [
        "def get_next_train_valid(X_shuffled, y_shuffled, itr):\n",
        "    \"\"\"\n",
        "    - itr value can tell you which fold you pick up for valid and rest go to training\n",
        "    - use 1 fold for validation and all other folds for training\n",
        "    - in next iteration, use a different fold for validation and remaining folds for training\n",
        "        \n",
        "    Basically, here you will determine which fold goes for validation and which ones for training\n",
        "    \"\"\"\n",
        "    #return training and validation data"
      ],
      "execution_count": 0,
      "outputs": []
    },
    {
      "cell_type": "code",
      "metadata": {
        "id": "KgP6R9u01nYC",
        "colab_type": "code",
        "colab": {}
      },
      "source": [
        ""
      ],
      "execution_count": 0,
      "outputs": []
    },
    {
      "cell_type": "code",
      "metadata": {
        "id": "qcSWM3MZ1nYH",
        "colab_type": "code",
        "colab": {}
      },
      "source": [
        "def train(X_train, y_train):\n",
        "    \"\"\"\n",
        "    This function should implement fitting or training your model in question. \n",
        "    \"\"\"\n",
        "    # return model"
      ],
      "execution_count": 0,
      "outputs": []
    },
    {
      "cell_type": "code",
      "metadata": {
        "id": "pAxWpH0G1nYL",
        "colab_type": "code",
        "colab": {}
      },
      "source": [
        ""
      ],
      "execution_count": 0,
      "outputs": []
    },
    {
      "cell_type": "code",
      "metadata": {
        "id": "Sr-JLvTx1nYO",
        "colab_type": "code",
        "colab": {}
      },
      "source": [
        "def predict(X_valid, model):\n",
        "    \"\"\"\n",
        "    Here, using the trained model, implement how to predict when you just have feature vector. \n",
        "    \"\"\"\n",
        "    # return "
      ],
      "execution_count": 0,
      "outputs": []
    },
    {
      "cell_type": "code",
      "metadata": {
        "id": "F6f0XhSC1nYX",
        "colab_type": "code",
        "colab": {}
      },
      "source": [
        ""
      ],
      "execution_count": 0,
      "outputs": []
    },
    {
      "cell_type": "code",
      "metadata": {
        "id": "Rad0g45l1nYf",
        "colab_type": "code",
        "colab": {},
        "outputId": "60473764-5c29-48c7-bea9-b3ed7cdbf350"
      },
      "source": [
        "\"\"\"\n",
        "Main - Here goes the overall logic.\n",
        "\"\"\"\n",
        "# cross-validation to get train and validation data\n",
        "# We will use cross validation for training and validation. In this assignment, we will not use test split separately.\n",
        "#  Let us say we want k-fold with k=5 - shuffle the data and partition into k-equal partitions\n",
        "#  Save paritions into dictionaries\n",
        "\n",
        "#Loop through 5 times, each time selecting 1 fold as validation and remaining as train data sets using function get_next_train_valid \n",
        "#   train your model\n",
        "#   predict target on validation and training\n",
        "#   compute error i.e. RMSE or classification accuracy as per assignment question\n",
        "#\n",
        "#Plot or print as per question - Mean RMSE or accuracy"
      ],
      "execution_count": 0,
      "outputs": [
        {
          "output_type": "execute_result",
          "data": {
            "text/plain": [
              "'\\nMain - Here goes the overall logic.\\n'"
            ]
          },
          "metadata": {
            "tags": []
          },
          "execution_count": 14
        }
      ]
    }
  ]
}